{
 "cells": [
  {
   "cell_type": "code",
   "execution_count": 1,
   "metadata": {},
   "outputs": [],
   "source": [
    "from __future__ import print_function, division\n",
    "from builtins import range, input"
   ]
  },
  {
   "cell_type": "code",
   "execution_count": 2,
   "metadata": {},
   "outputs": [
    {
     "name": "stderr",
     "output_type": "stream",
     "text": [
      "C:\\Users\\AAKASH\\Anaconda3\\lib\\site-packages\\h5py\\__init__.py:36: FutureWarning: Conversion of the second argument of issubdtype from `float` to `np.floating` is deprecated. In future, it will be treated as `np.float64 == np.dtype(float).type`.\n",
      "  from ._conv import register_converters as _register_converters\n",
      "Using TensorFlow backend.\n"
     ]
    }
   ],
   "source": [
    "from keras.layers import Input, Lambda, Dense, Flatten, AveragePooling2D, MaxPooling2D\n",
    "from keras.layers.convolutional import Conv2D\n",
    "from keras.models import Model, Sequential\n",
    "from keras.applications.vgg16 import VGG16, preprocess_input\n",
    "from keras.preprocessing import image\n",
    "import keras.backend as backend"
   ]
  },
  {
   "cell_type": "code",
   "execution_count": 3,
   "metadata": {},
   "outputs": [],
   "source": [
    "import numpy as np\n",
    "import matplotlib.pyplot as plt\n",
    "from scipy.optimize import fmin_l_bfgs_b\n",
    "from datetime import datetime"
   ]
  },
  {
   "cell_type": "code",
   "execution_count": 4,
   "metadata": {},
   "outputs": [],
   "source": [
    "def vgg16_avg_pool(shape):\n",
    "    vgg = VGG16(input_shape = shape, weights = 'imagenet', include_top = False)\n",
    "    new_model = Sequential()\n",
    "    for layer in vgg.layers:\n",
    "        if (layer.__class__ == MaxPooling2D):\n",
    "            new_model.add(AveragePooling2D())\n",
    "        else:\n",
    "            new_model.add(layer)\n",
    "    return new_model"
   ]
  },
  {
   "cell_type": "code",
   "execution_count": 5,
   "metadata": {},
   "outputs": [],
   "source": [
    "def vgg16_avg_pool_cutoff(shape, num_convs):\n",
    "    if(num_convs < 1 or num_convs > 13):\n",
    "        print(\"Input Error!!\")\n",
    "        return None\n",
    "    model = vgg16_avg_pool(shape)\n",
    "    new_model = Sequential()\n",
    "    n = 0\n",
    "    for layer in model.layers:\n",
    "        if(layer.__class__ == Conv2D):\n",
    "            n += 1\n",
    "        new_model.add(layer)\n",
    "        if(n >= num_convs):\n",
    "            break\n",
    "    return new_model"
   ]
  },
  {
   "cell_type": "code",
   "execution_count": 6,
   "metadata": {},
   "outputs": [],
   "source": [
    "def unpreprocess(img):\n",
    "    img[:, :, 0] += 103.939\n",
    "    img[:, :, 1] += 116.779\n",
    "    img[:, :, 2] += 126.68\n",
    "    img = img[:, :, ::-1]\n",
    "    return img"
   ]
  },
  {
   "cell_type": "code",
   "execution_count": 7,
   "metadata": {},
   "outputs": [],
   "source": [
    "def scale_image(x):\n",
    "    return (x - x.min()) / (x.max())"
   ]
  },
  {
   "cell_type": "code",
   "execution_count": 8,
   "metadata": {},
   "outputs": [],
   "source": [
    "def gram_matrix(img):\n",
    "    x = backend.batch_flatten(backend.permute_dimensions(img, (2, 0, 1)))\n",
    "    gram = backend.dot(x, backend.transpose(x)) / img.get_shape().num_elements()\n",
    "    return gram"
   ]
  },
  {
   "cell_type": "code",
   "execution_count": 9,
   "metadata": {},
   "outputs": [],
   "source": [
    "def style_loss(y, t):\n",
    "    return backend.mean(backend.square(gram_matrix(y) - gram_matrix(t)))"
   ]
  },
  {
   "cell_type": "code",
   "execution_count": 10,
   "metadata": {},
   "outputs": [],
   "source": [
    "def minimize(fn, epochs, batch_shape):\n",
    "    t0 = datetime.now()\n",
    "    losses = []\n",
    "    x = np.random.randn(np.prod(batch_shape))\n",
    "    for i in range(epochs):\n",
    "        x, l, _ = fmin_l_bfgs_b(func = fn, x0 = x, maxfun = 20)\n",
    "        x = np.clip(x, -127, 127)\n",
    "        print('iter: ', i, 'loss: ', l)\n",
    "        losses.append(l)\n",
    "    print('duration: ', datetime.now() - t0)\n",
    "    plt.plot(losses)\n",
    "    plt.show()\n",
    "    new_img = x.reshape(*batch_shape)\n",
    "    final_img = unpreprocess(new_img)\n",
    "    return final_img[0]"
   ]
  },
  {
   "cell_type": "code",
   "execution_count": 11,
   "metadata": {},
   "outputs": [],
   "source": [
    "def load_img_and_preprocess(path, shape = None):\n",
    "    img = image.load_img(path, target_size = shape)\n",
    "    x = image.img_to_array(img)\n",
    "    x = np.expand_dims(x, axis = 0)\n",
    "    x = preprocess_input(x)\n",
    "    return x"
   ]
  },
  {
   "cell_type": "code",
   "execution_count": 13,
   "metadata": {},
   "outputs": [],
   "source": [
    "content_img = load_img_and_preprocess('C:\\\\Users\\\\AAKASH\\\\Desktop\\\\Temporary\\\\CN ML attachments\\\\baby1.jpg', )\n",
    "height, width = content_img.shape[1:3]\n",
    "style_img = load_img_and_preprocess('C:\\\\Users\\\\AAKASH\\\\Desktop\\\\Temporary\\\\CN ML attachments\\\\artScene.jpg', (height, width))"
   ]
  },
  {
   "cell_type": "code",
   "execution_count": 14,
   "metadata": {},
   "outputs": [],
   "source": [
    "batch_shape = content_img.shape\n",
    "shape = content_img.shape[1:]"
   ]
  },
  {
   "cell_type": "code",
   "execution_count": 15,
   "metadata": {},
   "outputs": [],
   "source": [
    "vgg = vgg16_avg_pool(shape)"
   ]
  },
  {
   "cell_type": "code",
   "execution_count": 23,
   "metadata": {},
   "outputs": [],
   "source": [
    "content_model = Model(vgg.input, vgg.layers[12].get_output_at(1))\n",
    "content_target = backend.variable(content_model.predict(content_img))"
   ]
  },
  {
   "cell_type": "code",
   "execution_count": 17,
   "metadata": {},
   "outputs": [],
   "source": [
    "symbolic_conv_outputs = [layer.get_output_at(1) for layer in vgg.layers if layer.name.endswith('conv1')]"
   ]
  },
  {
   "cell_type": "code",
   "execution_count": 19,
   "metadata": {},
   "outputs": [],
   "source": [
    "style_model = Model(vgg.input, symbolic_conv_outputs)"
   ]
  },
  {
   "cell_type": "code",
   "execution_count": 22,
   "metadata": {},
   "outputs": [],
   "source": [
    "style_layer_outputs = [backend.variable(y) for y in style_model.predict(style_img)]"
   ]
  },
  {
   "cell_type": "code",
   "execution_count": 24,
   "metadata": {},
   "outputs": [],
   "source": [
    "style_weights = [1, 2, 3, 4, 5]"
   ]
  },
  {
   "cell_type": "code",
   "execution_count": 25,
   "metadata": {},
   "outputs": [],
   "source": [
    "loss = backend.mean(backend.square(content_model.output - content_target))"
   ]
  },
  {
   "cell_type": "code",
   "execution_count": 26,
   "metadata": {},
   "outputs": [],
   "source": [
    "for w, symbolic, actual in zip(style_weights, symbolic_conv_outputs, style_layer_outputs):\n",
    "    loss += w * style_loss(symbolic[0], actual[0])"
   ]
  },
  {
   "cell_type": "code",
   "execution_count": 27,
   "metadata": {},
   "outputs": [],
   "source": [
    "grads = backend.gradients(loss, vgg.input)"
   ]
  },
  {
   "cell_type": "code",
   "execution_count": 28,
   "metadata": {},
   "outputs": [],
   "source": [
    "get_loss_and_grads = backend.function(inputs = [vgg.input], outputs = [loss] + grads)"
   ]
  },
  {
   "cell_type": "code",
   "execution_count": 29,
   "metadata": {},
   "outputs": [],
   "source": [
    "def get_loss_and_grads_wrapper(x_vec):\n",
    "    l, g = get_loss_and_grads([x_vec.reshape(*batch_shape)])\n",
    "    return l.astype(np.float64), g.flatten().astype(np.float64)"
   ]
  },
  {
   "cell_type": "code",
   "execution_count": null,
   "metadata": {},
   "outputs": [],
   "source": [
    "final_img = minimize(get_loss_and_grads_wrapper, 10, batch_shape)\n",
    "plt.imshow(scale_img(final_img))\n",
    "plt.show()"
   ]
  },
  {
   "cell_type": "code",
   "execution_count": null,
   "metadata": {},
   "outputs": [],
   "source": []
  },
  {
   "cell_type": "code",
   "execution_count": null,
   "metadata": {},
   "outputs": [],
   "source": []
  },
  {
   "cell_type": "code",
   "execution_count": null,
   "metadata": {},
   "outputs": [],
   "source": []
  }
 ],
 "metadata": {
  "kernelspec": {
   "display_name": "Python 3",
   "language": "python",
   "name": "python3"
  },
  "language_info": {
   "codemirror_mode": {
    "name": "ipython",
    "version": 3
   },
   "file_extension": ".py",
   "mimetype": "text/x-python",
   "name": "python",
   "nbconvert_exporter": "python",
   "pygments_lexer": "ipython3",
   "version": "3.6.5"
  }
 },
 "nbformat": 4,
 "nbformat_minor": 2
}
